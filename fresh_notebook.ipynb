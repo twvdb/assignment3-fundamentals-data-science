{
 "cells": [
  {
   "cell_type": "code",
   "execution_count": 1,
   "metadata": {
    "collapsed": true
   },
   "outputs": [],
   "source": [
    "import pandas as pd\n",
    "import numpy as np\n",
    "import operator\n",
    "import pandas as pd\n",
    "import matplotlib.pyplot as plt\n",
    "import numpy as np\n",
    "from sklearn import datasets, linear_model\n",
    "from sklearn.metrics import mean_squared_error, r2_score\n",
    "from sklearn.model_selection import train_test_split\n",
    "from sklearn.linear_model import LinearRegression"
   ]
  },
  {
   "cell_type": "code",
   "execution_count": 67,
   "metadata": {
    "collapsed": true
   },
   "outputs": [],
   "source": [
    "quant_df = pd.read_csv('analysisfile.csv')\n",
    "face_df = pd.read_csv('face.csv')\n",
    "survey_df = pd.read_csv('survey.csv')\n",
    "df4 = pd.read_csv('df4.csv')"
   ]
  },
  {
   "cell_type": "code",
   "execution_count": 68,
   "metadata": {
    "collapsed": false
   },
   "outputs": [],
   "source": [
    "# mapped emotions: happiness, sadness, positive_emotion, negative_emotion\n",
    "\n",
    "# -1 (negative, sadness) to 1 (positive, happiness)\n",
    "# very unprofessional typed-by-hand values :P\n",
    "emotion_mapping = {'amazement': 0.5 , 'joy': 1, 'sadness': -1, 'interest': 0.5, \n",
    "        'rage': -1, 'surprise': 0.3, 'serenity': 1, 'grief': -1,\n",
    "        'fear': -0.75, 'anger': -1, 'ecstasy': 0.75, 'terror': -1,\n",
    "        'trust': 0.75, 'boredom': -0.25, 'distraction': 0, \n",
    "        'acceptance': 0.5, 'disgust': -0.25, 'anticipation': 0.25}\n",
    "# emotion_mapping = {'amazement': 'happiness' , 'joy': 'happiness', 'sadness': 'sadness', 'interest': 'positive_emotion', \n",
    "#         'rage': 'negative_emotion', 'surprise': 'positive_emotion', 'serenity': 'happiness', 'grief': 'sadness',\n",
    "#         'fear': 'negative_emotion', 'anger': 'negative_emotion', 'ecstasy': 'positive_emotion', 'terror': 'negative_emotion',\n",
    "#         'trust': 'positive_emotion', 'boredom': 'negative_emotion', 'distraction': 'negative_emotion', \n",
    "#         'acceptance': 'positive_emotion', 'disgust': 'negative_emotion', 'anticipation': 'positive_emotion'}\n",
    "\n",
    "#df4['emotion_label'].unique()\n",
    "\n",
    "#df4['avg_emotion_value'] = df4.apply(lambda x: emotion_mapping[x['emotion_label']], axis=1)\n",
    "\n",
    "new_df = df4.copy()\n",
    "\n",
    "new_df['uses_filter'] = df4.apply(lambda x: 0 if x['image_filter'] == 'Normal' else 1, axis=1)\n",
    "\n",
    "new_df = new_df.drop(['emotion_label', 'emotion_score', 'image_filter'], axis=1)\n",
    "\n",
    "new_df = new_df.groupby(by='user_id').mean()\n",
    "\n",
    "new_df['user_id'] = new_df.index\n",
    "\n",
    "new_df['user_id'] = new_df.apply(lambda x: int(x['user_id']), axis=1)\n",
    "\n",
    "new_df.reset_index(drop=True)\n",
    "\n",
    "new_df.index = range(len(new_df.index))"
   ]
  },
  {
   "cell_type": "code",
   "execution_count": 69,
   "metadata": {
    "collapsed": true
   },
   "outputs": [],
   "source": [
    "new_df = new_df.join(survey_df)\n",
    "\n",
    "new_df = new_df.drop(['A_2', 'N_1', 'P_1', 'E_1', 'A_1',\n",
    "       'H_1', 'M_1', 'R_1', 'M_2', 'E_2', 'LON', 'H_2', 'P_2', 'N_2', 'A_3',\n",
    "       'N_3', 'E_3', 'H_3', 'R_2', 'M_3', 'R_3', 'P_3', 'HAP','network_id', 'P', 'E', 'R', 'M', 'A', 'start_q', 'end_q', 'private_account'], axis=1)\n",
    "\n",
    "new_df.dropna(how='any', inplace=True)\n",
    "\n",
    "X = new_df[['user_posted_photos', 'user_follows', 'user_followed_by', 'no_of_faces', 'imagecount']].copy()\n",
    "X['x1'] = X['user_posted_photos'] * X['user_follows']\n",
    "X['x2'] = X['user_followed_by'] * X['user_followed_by']\n",
    "\n",
    "y = new_df['PERMA'].copy()"
   ]
  },
  {
   "cell_type": "code",
   "execution_count": 70,
   "metadata": {
    "collapsed": false
   },
   "outputs": [
    {
     "name": "stdout",
     "output_type": "stream",
     "text": [
      "('Accuracy: ', 0.25675675675675674)\n"
     ]
    }
   ],
   "source": [
    "from sklearn.linear_model import LogisticRegression, Lasso, Ridge\n",
    "from sklearn.cross_validation import cross_val_score, cross_val_predict\n",
    "from sklearn import metrics\n",
    "\n",
    "# X_train, X_test, y_train, y_test = train_test_split(X, y, test_size=0.2)\n",
    "\n",
    "lm = LogisticRegression()\n",
    "\n",
    "#predicted = cross_val_predict(lr, X_train, y_test, cv=10)\n",
    "\n",
    "predicted = cross_val_predict(LogisticRegression(), X, y, cv=15)\n",
    "\n",
    "accuracy = metrics.accuracy_score(y, predicted)\n",
    "\n",
    "print('Accuracy: ', accuracy)\n",
    "\n",
    "# Show metrics\n",
    "#print('Coefficients: \\n', lm.coef_)\n",
    "# The mean squared error\n",
    "# print(\"Mean squared error: %.2f\"\n",
    "#       % mean_squared_error(y, y_predict))\n",
    "# # Explained variance score: 1 is perfect prediction\n",
    "# print('Variance score: %.2f' % r2_score(y, y_predict))"
   ]
  }
 ],
 "metadata": {
  "kernelspec": {
   "display_name": "Python [default]",
   "language": "python",
   "name": "python2"
  },
  "language_info": {
   "codemirror_mode": {
    "name": "ipython",
    "version": 2
   },
   "file_extension": ".py",
   "mimetype": "text/x-python",
   "name": "python",
   "nbconvert_exporter": "python",
   "pygments_lexer": "ipython2",
   "version": "2.7.12"
  }
 },
 "nbformat": 4,
 "nbformat_minor": 1
}
